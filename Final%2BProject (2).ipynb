{
 "cells": [
  {
   "cell_type": "markdown",
   "metadata": {},
   "source": [
    "# Final Project\n",
    "Objective: \n",
    "1. get all the herb information with name, common name, as well as use function from a website\n",
    "    a) try/except statement\n",
    "    b) if/else statement\n",
    "    c) write output to a file\n",
    "2. then save all the information into a dictionary. \n",
    "    a) at least one dictionary\n",
    "3. Create menu options to add herb, delete herb, look up herb by use, look up use by herb, and count herb. \n",
    "    a)a calculation on a list\n",
    "4. create a class to print histagram of each use with number of herbs\n",
    "    a) function that takes two user arguments from command line\n",
    "    b) class to output a simple graph\n",
    "5. include docstrings telling us how to run your script\n",
    "6. comments on the purpose of the function as well as inputs and outputs"
   ]
  },
  {
   "cell_type": "markdown",
   "metadata": {},
   "source": [
    "# Objective 1: get all herb information with name, common name, as well as use function from a website"
   ]
  },
  {
   "cell_type": "code",
   "execution_count": null,
   "metadata": {
    "collapsed": false
   },
   "outputs": [],
   "source": [
    "#all the resources and libraries I need to run\n",
    "from urllib.request import urlopen \n",
    "# this is the request library use to scrape html \n",
    "from bs4 import BeautifulSoup\n",
    "import re \n",
    "# my page source involve regulare expression therefore using this package \n",
    "import csv\n",
    "# this is the csv library use to write my output into csv file \n",
    "from collections import Counter\n",
    "# this is use for count function"
   ]
  },
  {
   "cell_type": "code",
   "execution_count": null,
   "metadata": {
    "collapsed": false
   },
   "outputs": [],
   "source": [
    "#scrape the herb website and save the herb name, common name, as well as herb function into a dictionary\n",
    "herbs_page = urlopen(\"http://www.herbaltransitions.com/BotanCom.html\")\n",
    "soup = BeautifulSoup(herbs_page, 'html.parser') \n",
    "# using Beautiful soup here to parse the url \n",
    "#get all herb links on the herbs_page\n",
    "herb_links = soup.body.p.find_all('a')[2:]\n",
    "print(herb_links) \n",
    "# show the output of all links "
   ]
  },
  {
   "cell_type": "code",
   "execution_count": null,
   "metadata": {
    "collapsed": false
   },
   "outputs": [],
   "source": [
    "#since I have all the links, I am going to parse the website again for each link\n",
    "count = 1\n",
    "#this is just a placeholder, later I am going to add the herb details in the list\n",
    "result = []\n",
    "# Loop through the list of links I built\n",
    "for herb_link in herb_links:\n",
    "    #try/except funtion here to make sure we don't have a invalid link\n",
    "    try:\n",
    "        href = herb_link.get('href')\n",
    "        if not href:\n",
    "            continue\n",
    "        ref = \"http://www.herbaltransitions.com/\" + href\n",
    "        # Once again I'll use beautiful soup to process the html of my links.\n",
    "        herb_page = urlopen(ref)\n",
    "        link_soup = BeautifulSoup(herb_page, 'html.parser')\n",
    "        names = link_soup.head.title.string.split('-')\n",
    "        print(names)\n",
    "        #show the output of all title names\n",
    "        \n",
    "        #based on the html format, we are going to use re.search function to find name, common name, use and get rid of unnecessary info\n",
    "        m = re.search('(.+?) \\((.+?)\\)', str(names[-1]))\n",
    "        if not m:\n",
    "            continue\n",
    "        # name\n",
    "        # From looking at the HTML source (using View Source in our browser)\n",
    "        # we see that name is the first one of m group\n",
    "        name =m.group(1)\n",
    "        print(name) \n",
    "        #show the output of all names\n",
    "        #common_name is under second of m group\n",
    "        common_name = m.group(2)\n",
    "        print(common_name) \n",
    "        # show the output of all common names\n",
    "        #use is in the body part of the link\n",
    "        use = link_soup.body.p \n",
    "        #because each herb might have few uses,we need to seperate them using ',' and as well as get rid of the a), b), c), etc. in for future use\n",
    "        m = re.search('<b>Use:</b>(.+?)<br/>', str(use))\n",
    "        #if/else function here to identify the use section\n",
    "        if not m:\n",
    "            m = re.search('<b>Use: </b>(.+?)<br/>', str(use))\n",
    "        if not m:\n",
    "            m = re.search('<b>Use</b>:(.+?)<br/>', str(use))\n",
    "        if m:\n",
    "            use = m.group(1).split(',')\n",
    "            use = ' '.join(list(map(lambda x: x[5:], use))) \n",
    "            #get rid of the (a),(b) \"\"\"\n",
    "        else:\n",
    "            use = ''\n",
    "        print(use)\n",
    "        #show the output of all uses \"\"\"\n",
    "        \n",
    "        #append everything into the result list\n",
    "        result.append([name.strip(' '), common_name.strip(' '), use.strip(' ').rstrip('.')])\n",
    "    \n",
    "    #some of the herbs have error links\n",
    "    except Exception as err: \n",
    "        print(herb_link)\n",
    "        print(err)"
   ]
  },
  {
   "cell_type": "code",
   "execution_count": null,
   "metadata": {
    "collapsed": true
   },
   "outputs": [],
   "source": [
    "#I want to write all info into a csv file\n",
    "with open('herbs.csv', 'w') as outcsv:\n",
    "    writer = csv.DictWriter(outcsv, fieldnames = [\"Name\", \"Common Name\", \"Use\"])\n",
    "    writer.writeheader()\n",
    "    writer.writerows({'Name': row[0], 'Common Name': row[1], 'Use': row[2]} for row in result)"
   ]
  },
  {
   "cell_type": "markdown",
   "metadata": {},
   "source": [
    "# save all the information into a dictionary"
   ]
  },
  {
   "cell_type": "code",
   "execution_count": null,
   "metadata": {
    "collapsed": true
   },
   "outputs": [],
   "source": [
    "#I want to create dictionary with key=name, value=use\n",
    "with open('herb.csv', mode='r') as infile:\n",
    "    reader = csv.reader(infile)\n",
    "    for rows in reader:\n",
    "        k = rows[0]\n",
    "        v = rows[2]\n",
    "        mydict = {k:v for k, v in rows}\n",
    "    print(mydict)"
   ]
  },
  {
   "cell_type": "markdown",
   "metadata": {},
   "source": [
    "# Create menu options to add herb, delete herb, look up herb by use, look up use by herb, and count herb. "
   ]
  },
  {
   "cell_type": "code",
   "execution_count": null,
   "metadata": {
    "collapsed": true
   },
   "outputs": [],
   "source": [
    "#print menu, you can look up a herb, add an herb, delete an herb, look up an herb, and print their funtions\n",
    "def print_menu():\n",
    "    print('1. Print Herbs')\n",
    "    print('2. Add a herb')\n",
    "    print('3. Remove a herb')\n",
    "    print('4. Lookup a herb')\n",
    "    print('5. count')\n",
    "    print('6. Quit')\n",
    "    print()"
   ]
  },
  {
   "cell_type": "code",
   "execution_count": null,
   "metadata": {
    "collapsed": true
   },
   "outputs": [],
   "source": [
    "# setup counter to store menu choice\n",
    "menu_choice = 0"
   ]
  },
  {
   "cell_type": "code",
   "execution_count": null,
   "metadata": {
    "collapsed": true
   },
   "outputs": [],
   "source": [
    "#display your menu\n",
    "print_menu()"
   ]
  },
  {
   "cell_type": "code",
   "execution_count": null,
   "metadata": {
    "collapsed": true
   },
   "outputs": [],
   "source": [
    "# as long as the menu choice isn't \"quit\" get user options\n",
    "while menu_choice != 6:\n",
    "    # get menu choice from user\n",
    "    menu_choice = int(input(\"Type in a number (1-6): \"))"
   ]
  },
  {
   "cell_type": "code",
   "execution_count": null,
   "metadata": {
    "collapsed": true
   },
   "outputs": [],
   "source": [
    " # view current entries\n",
    "    if menu_choice == 1:\n",
    "        print(\"All Herbs:\")\n",
    "        for x,y in mydict.items():\n",
    "            print(\"Name: {} \\tFunction: {} \\n\".format(x,y))"
   ]
  },
  {
   "cell_type": "code",
   "execution_count": null,
   "metadata": {
    "collapsed": true
   },
   "outputs": [],
   "source": [
    " # add an herb\n",
    "    elif menu_choice == 2:\n",
    "        print(\"Add herb\")\n",
    "        name = input(\"Name: \")\n",
    "        function = input(\"Function: \")\n",
    "        mydict[name] = function"
   ]
  },
  {
   "cell_type": "code",
   "execution_count": null,
   "metadata": {
    "collapsed": true
   },
   "outputs": [],
   "source": [
    " # remove an herb\n",
    "    elif menu_choice == 3:\n",
    "        # what do i do here? \n",
    "        print(\"Remove herb\")\n",
    "        # get the name of the herb they want to delete\n",
    "        input_name = input(\"Name: \")\n",
    "        # check if input name in dictionary\n",
    "        if input_name in mydict:\n",
    "            del mydict[input_name]"
   ]
  },
  {
   "cell_type": "code",
   "execution_count": null,
   "metadata": {
    "collapsed": true
   },
   "outputs": [],
   "source": [
    "# look up use      \n",
    "    elif menu_choice == 4:\n",
    "        print(\"Lookup herb\")\n",
    "        name = input(\"Name or use: \")\n",
    "        for key, value in mydict.items():\n",
    "            if (name == key):\n",
    "                print(usernames[name])\n",
    "            if (name == value):\n",
    "                print([item[0] for item in mydict.items() if item[1] == name])\n",
    "            else:\n",
    "                print(\"User not found.\")"
   ]
  },
  {
   "cell_type": "code",
   "execution_count": null,
   "metadata": {
    "collapsed": true
   },
   "outputs": [],
   "source": [
    "# count how many herbs with each function     \n",
    "     elif menu_choice == 5:\n",
    "        print(\"count herb\")\n",
    "        use = input(\"use: \")\n",
    "        c=Counter(result)\n",
    "        print(\"there are {} herbs with {}\".format(c[use],use)\n",
    "# if user enters something strange, show them the menu\n",
    "    else:\n",
    "        print_menu()"
   ]
  },
  {
   "cell_type": "markdown",
   "metadata": {},
   "source": [
    "# create a class to print histagram of each use with number of herbs"
   ]
  },
  {
   "cell_type": "code",
   "execution_count": null,
   "metadata": {
    "collapsed": true
   },
   "outputs": [],
   "source": [
    "class herb_learn():\n",
    "    #input the name of herb, and save it to a dictionary\n",
    "    def new_herb():\n",
    "        input(\"what herb you want to add?\")\n",
    "        return "
   ]
  },
  {
   "cell_type": "markdown",
   "metadata": {
    "collapsed": true
   },
   "source": [
    "# create a find herb class, see if we could include a function that takes at least two user arguments from the commend line"
   ]
  },
  {
   "cell_type": "code",
   "execution_count": null,
   "metadata": {
    "collapsed": true
   },
   "outputs": [],
   "source": [
    "#create a count funtion class, and count how many herbs with each function\n",
    "#print histogram of each function\n",
    "# We might want to do more than just print out our numbers though. Maybe\n",
    "# we want to see count up each inmate's city and print it out.s\n",
    "inmate_cities =  {}\n",
    "\n",
    "for inmate in inmates:\n",
    "\n",
    "    # If we haven't seen the inmate's city already, add it to our\n",
    "    # dictionary with the value of 1. Otherwise, just add 1.\n",
    "    if inmate['city'] in inmate_cities:\t\n",
    "        inmate_cities[inmate['city']] += 1\n",
    "    else:\n",
    "        inmate_cities[inmate['city']] = 1\n",
    "\n",
    "print inmate_cities\n",
    "\n",
    "\n",
    "# Or, each inmate's race\n",
    "inmate_races =  {}\n",
    "\n",
    "for inmate in inmates:\n",
    "    if inmate['race'] in inmate_races:\n",
    "        inmate_races[inmate['race']] += 1\n",
    "    else:\n",
    "        inmate_races[inmate['race']] = 1\n",
    "\n",
    "print inmate_races"
   ]
  }
 ],
 "metadata": {
  "kernelspec": {
   "display_name": "Python 3",
   "language": "python",
   "name": "python3"
  },
  "language_info": {
   "codemirror_mode": {
    "name": "ipython",
    "version": 3
   },
   "file_extension": ".py",
   "mimetype": "text/x-python",
   "name": "python",
   "nbconvert_exporter": "python",
   "pygments_lexer": "ipython3",
   "version": "3.5.2"
  }
 },
 "nbformat": 4,
 "nbformat_minor": 1
}
